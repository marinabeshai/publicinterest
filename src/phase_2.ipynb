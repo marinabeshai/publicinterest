{
 "cells": [
  {
   "cell_type": "code",
   "execution_count": null,
   "metadata": {},
   "outputs": [],
   "source": [
    "PROFIT"
   ]
  },
  {
   "cell_type": "code",
   "execution_count": 23,
   "metadata": {},
   "outputs": [],
   "source": [
    "import utils.csv_utils as csv_utils \n",
    "import utils.dir_utils as dir_utils\n",
    "import utils.dict_utils as dict_utils \n",
    "import utils.ptr_utils as ptr_utils\n",
    "import utils.constants as constants \n",
    "import helpers.official as official\n",
    "import helpers.search as search\n",
    "import helpers.congress as congress\n",
    "import pandas as pd \n",
    "from scipy.stats.mstats import gmean\n",
    "import random "
   ]
  },
  {
   "cell_type": "code",
   "execution_count": 22,
   "metadata": {},
   "outputs": [
    {
     "name": "stdout",
     "output_type": "stream",
     "text": [
      "3872.9833462074166\n",
      "6695.165084309057\n"
     ]
    }
   ],
   "source": [
    "# randomly give it one of the upper ones!!!\n",
    "print(gmean([1000, 15000]))\n",
    "\n",
    "print(gmean(range(1000, 15000)))"
   ]
  },
  {
   "cell_type": "code",
   "execution_count": 27,
   "metadata": {},
   "outputs": [
    {
     "name": "stdout",
     "output_type": "stream",
     "text": [
      "$1,000 - $15,000 6695.5508358990155\n",
      "$1,001 - $15,000 6696.460269795503\n",
      "$15,000 - $50,000 30815.197062653664\n",
      "$15,001 - $50,000 30815.830944625086\n",
      "$50,001 - $100,000 73576.3982240245\n",
      "$100,001 - $250,000 169410.4485516184\n",
      "$250,001 - $500,000 367879.95116074546\n",
      "$500,001 - $1,000,000 735759.3923321357\n",
      "$1,000,001 - $5,000,000 2750540.9233132955\n",
      "$5,000,001 - $25,000,000 13752702.40315505\n",
      "$25,000,001 - $50,000,000 36787944.627133004\n",
      "Over $50,000,000 73575888.17583919\n",
      "$50,000,000 + 73575888.17583919\n",
      "Unknown None\n",
      "$1,001 - 369.4916634719598\n",
      "$1,000,000 + 36787944.627133004\n"
     ]
    }
   ],
   "source": [
    "_, input_df = dir_utils.get_data(combined=True)\n",
    "\n",
    "# s = set()\n",
    "\n",
    "# for _,t in input_df.iterrows():      \n",
    "#     if t[constants.AMOUNT] == '$1,001 -':\n",
    "#             s.add(ptr_utils.get_year(t[constants.TDATE]))\n",
    "#         # n = official.get_name(t)\n",
    "#         # s.add( (n, search.congress_gov_get(n, party_only=True), search.congress_gov_get(n, state_only=True))) \n",
    "    \n",
    "\n",
    "# print(s)\n",
    "        # {\n",
    "        # '$1,000 - $15,000'\n",
    "        # '$1,001 - $15,000',\n",
    "        # '$1,001 -', \n",
    "        # '$15,000 - $50,000',\n",
    "        # '$15,001 - $50,000',\n",
    "        # '$50,001 - $100,000',\n",
    "        # '$100,001 - $250,000',\n",
    "        # '$250,001 - $500,000',\n",
    "        # '$500,001 - $1,000,000',\n",
    "        # '$1,000,000 +',\n",
    "        # '$1,000,001 - $5,000,000',\n",
    "        # '$5,000,001 - $25,000,000',\n",
    "        # '$25,000,001 - $50,000,000',\n",
    "        # 'Over $50,000,000', \n",
    "        # '$50,000,000 +',\n",
    "\n",
    "        \n",
    "        #  'Unknown', \n",
    "        #  }\n",
    "        \n",
    "\n",
    "# # t[constants.AMOUNT]\n",
    "\n",
    "for x in ALL_OF_THE_POSSIBLE_ENTRIES_FOR_AMOUNT:\n",
    "        print(x, get_gmean(x))"
   ]
  },
  {
   "cell_type": "code",
   "execution_count": null,
   "metadata": {},
   "outputs": [],
   "source": [
    "_, input_df = dir_utils.get_data(combined=True)\n",
    "_, house_input_df = dir_utils.get_data(house=True)\n",
    "_, senate_input_df = dir_utils.get_data(senate=True)"
   ]
  }
 ],
 "metadata": {
  "interpreter": {
   "hash": "e534e48711db4d1e1c48977d0d14ff85b1f16d41bcc4fdfd88268a329b3c9d66"
  },
  "kernelspec": {
   "display_name": "Python 3.7.9 64-bit",
   "language": "python",
   "name": "python3"
  },
  "language_info": {
   "codemirror_mode": {
    "name": "ipython",
    "version": 3
   },
   "file_extension": ".py",
   "mimetype": "text/x-python",
   "name": "python",
   "nbconvert_exporter": "python",
   "pygments_lexer": "ipython3",
   "version": "3.7.9"
  },
  "orig_nbformat": 4
 },
 "nbformat": 4,
 "nbformat_minor": 2
}
