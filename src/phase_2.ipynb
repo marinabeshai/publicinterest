{
 "cells": [
  {
   "cell_type": "markdown",
   "metadata": {},
   "source": [
    "# PHASE 2: PROFIT"
   ]
  },
  {
   "cell_type": "code",
   "execution_count": 1,
   "metadata": {},
   "outputs": [],
   "source": [
    "import utils.dir_utils as dir_utils\n",
    "import utils.dict_utils as dict_utils\n",
    "import utils.ptr_utils as ptr_utils\n",
    "import utils.constants as constants \n",
    "import utils.profit as profit \n",
    "import helpers.official as official\n",
    "import copy\n",
    "\n",
    "_, input_df = dir_utils.get_data(combined=True)\n",
    "_, house_input_df = dir_utils.get_data(house=True)\n",
    "_, senate_input_df = dir_utils.get_data(senate=True)"
   ]
  },
  {
   "cell_type": "markdown",
   "metadata": {},
   "source": [
    "### Match Purchases and Sales"
   ]
  },
  {
   "cell_type": "code",
   "execution_count": 2,
   "metadata": {},
   "outputs": [
    {
     "name": "stdout",
     "output_type": "stream",
     "text": [
      "len(sales): 8170\n",
      "len(purchases): 8563\n",
      "1\n",
      "2\n",
      "3\n"
     ]
    }
   ],
   "source": [
    "def setup():\n",
    "    purchases = set()\n",
    "    sales = set()\n",
    "\n",
    "    for _,t in input_df.iterrows():\n",
    "        if ptr_utils.isvalid(t[constants.TICKER]):\n",
    "            core =  (t[constants.TDATE], official.get_name(t), t[constants.TICKER])\n",
    "            if t[constants.TYPE] == 'Purchase': \n",
    "                purchases.add(core)\n",
    "            elif t[constants.TYPE] == 'Sale (Full)' or t[constants.TYPE] == 'Sale (Partial)':\n",
    "                sales.add(core)\n",
    "\n",
    "    return purchases, sales \n",
    "\n",
    "\n",
    "def share_diff(ticker, tdate_sale, tdate_purch):\n",
    "    sale_price = profit.get_stock_price(ticker, tdate_sale)\n",
    "    purch_price = profit.get_stock_price(ticker, tdate_purch)\n",
    "    if purch_price and sale_price:\n",
    "        return round(purch_price - sale_price, 2)\n",
    "    return None \n",
    "\n",
    "\n",
    "def match(purchases, sales):\n",
    "    sales_copy = copy.deepcopy(sales)\n",
    "\n",
    "    # { (name, ticker, tdate_sale) : [(share_diff, tdate_purch), ... , ... ]  }\n",
    "    possible_matches = {}\n",
    "    i = 0 \n",
    "    for (tdate_sale, name_sale, ticker_sale) in sales_copy: \n",
    "        i += 1 \n",
    "        print(i)   \n",
    "        for (tdate_purch, name_purch, ticker_purch)  in purchases:\n",
    "            if name_purch == name_sale and ticker_purch == ticker_sale and ptr_utils.is_this_date_after(tdate_sale, tdate_purch):\n",
    "                diff = share_diff(ticker_purch, tdate_sale, tdate_purch)\n",
    "                if diff: \n",
    "                    possible_matches = dict_utils.increment_list_in_dictionary(possible_matches, (name_sale, ticker_sale, tdate_sale), (diff, tdate_purch))\n",
    "            \n",
    "    return possible_matches, purchases, sales \n",
    "\n",
    "        \n",
    "p, s = setup()\n",
    "print('len(sales): {}'.format(len(s)))\n",
    "print('len(purchases): {}'.format(len(p)))\n",
    "pm, p, s = match(p, s)\n",
    "p = profit.get_instances(pm)\n",
    "\n",
    "\n",
    "# { (name, ticker) : {'2017/04/05': (143.2, '2019/11/05'), '2015/07/09': (28.95, '2020/03/26'), '2017/12/07': -1, '2021/01/11': (-2.02, '2021/01/15')} }\n",
    "res = {}\n",
    "for i in p:\n",
    "    m = profit.stableMarriage(p[i])\n",
    "    res = dict_utils.increment_dictionary(res, i, m, not_math=True)    "
   ]
  },
  {
   "cell_type": "code",
   "execution_count": null,
   "metadata": {},
   "outputs": [],
   "source": [
    "# def get_sprice(matches):\n",
    "#     for (tdate_sale, tdate_purch, name, ticker) in matches:\n",
    "#             sale_price = get_stock_price(ticker, tdate_sale)\n",
    "#             purch_price = get_stock_price(ticker, tdate_purch)\n",
    "            \n",
    "#             if not purch_price or not sale_price:\n",
    "#                 pass \n",
    "#             else: \n",
    "#                 print(round(purch_price - sale_price, 2), tdate_sale, tdate_purch, name, ticker)\n",
    "#                 pass \n",
    "\n",
    "\n",
    "# get_sprice(m)\n",
    "\n",
    "                # matches.add((tdate_sale, tdate_purch, name_purch, ticker_purch))\n",
    "                # sales.remove((tdate_sale, name_sale, ticker_sale))\n",
    "                # purchases.remove((tdate_purch, name_purch, ticker_purch))\n",
    "                # break \n",
    "                \n",
    "                \n",
    "                # def maximize(possible_matches):\n",
    "#     # { (name, ticker, tdate_sale) : (share_diff, tdate_purch), ....  }\n",
    "#     finalized = {}\n",
    "    \n",
    "#     for (name, ticker, tdate_sale) in possible_matches.keys():\n",
    "#         best_diff = 0\n",
    "#         best_date = None \n",
    "#         for (diff, tdate_purch) in possible_matches[(name, ticker, tdate_sale)]:\n",
    "#             if diff > best_diff:\n",
    "#                 best_diff = diff\n",
    "#                 best_date = tdate_purch\n",
    "                \n",
    "#         finalized[(name, ticker, tdate_sale)] = (best_diff, best_date)\n",
    "    \n",
    "#     return finalized\n",
    "        \n",
    "\n"
   ]
  }
 ],
 "metadata": {
  "interpreter": {
   "hash": "e534e48711db4d1e1c48977d0d14ff85b1f16d41bcc4fdfd88268a329b3c9d66"
  },
  "kernelspec": {
   "display_name": "Python 3.7.9 64-bit",
   "language": "python",
   "name": "python3"
  },
  "language_info": {
   "codemirror_mode": {
    "name": "ipython",
    "version": 3
   },
   "file_extension": ".py",
   "mimetype": "text/x-python",
   "name": "python",
   "nbconvert_exporter": "python",
   "pygments_lexer": "ipython3",
   "version": "3.7.9"
  },
  "orig_nbformat": 4
 },
 "nbformat": 4,
 "nbformat_minor": 2
}
