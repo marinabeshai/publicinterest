{
 "cells": [
  {
   "cell_type": "code",
   "execution_count": 1,
   "metadata": {},
   "outputs": [
    {
     "name": "stdout",
     "output_type": "stream",
     "text": [
      "{0, 1, 2}\n"
     ]
    }
   ],
   "source": [
    "import utils.csv_utils as csv_utils \n",
    "import utils.dir_utils as dir_utils\n",
    "import utils.dict_utils as dict_utils \n",
    "import utils.ptr_utils as ptr_utils\n",
    "import utils.constants as constants \n",
    "import helpers.official as official\n",
    "import helpers.search as search\n",
    "import helpers.congress as congress\n",
    "import pandas as pd \n",
    "from scipy.stats.mstats import gmean\n",
    "\n",
    "dict1 = {0: 33.422, 1: 39.2308, 2: 30.132}\n",
    "# column ^^ \n",
    "\n",
    "dict2 = {0: 42.2422, 1: 43.342, 2: 42.424}\n",
    "dict3 = {0: 13.422, 1: 9.2308, 2: 20.132}\n",
    "dict4 = {0: 32.2422, 1: 23.342, 2: 32.424}\n",
    "\n",
    "dicts = dict1, dict2, dict3, dict4\n",
    "\n",
    "\n",
    "\n",
    "csv_utils.make_csv_multiple_dicts(\".\", \"Filename\", dicts, [\"\", \"1\", \"2\", \"3\", \"4\"])"
   ]
  }
 ],
 "metadata": {
  "interpreter": {
   "hash": "e534e48711db4d1e1c48977d0d14ff85b1f16d41bcc4fdfd88268a329b3c9d66"
  },
  "kernelspec": {
   "display_name": "Python 3.7.9 64-bit",
   "language": "python",
   "name": "python3"
  },
  "language_info": {
   "codemirror_mode": {
    "name": "ipython",
    "version": 3
   },
   "file_extension": ".py",
   "mimetype": "text/x-python",
   "name": "python",
   "nbconvert_exporter": "python",
   "pygments_lexer": "ipython3",
   "version": "3.7.9"
  },
  "orig_nbformat": 4
 },
 "nbformat": 4,
 "nbformat_minor": 2
}
