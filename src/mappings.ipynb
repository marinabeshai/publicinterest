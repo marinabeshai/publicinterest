{
 "cells": [
  {
   "cell_type": "code",
   "execution_count": 8,
   "metadata": {},
   "outputs": [],
   "source": [
    "import utils.csv_utils as csv_utils \n",
    "import utils.dir_utils as dir_utils\n",
    "import utils.dict_utils as dict_utils \n",
    "import utils.ptr_utils as ptr_utils\n",
    "import utils.constants as constants \n",
    "import helpers.search_u as search\n",
    "import pandas as pd \n",
    "\n",
    "title, input_df = dir_utils.get_data(senate=True)\n",
    "_, input_df_house = dir_utils.get_data(house=True)\n",
    "combined_input = pd.concat([input_df, input_df_house])\n"
   ]
  },
  {
   "cell_type": "code",
   "execution_count": 9,
   "metadata": {},
   "outputs": [
    {
     "name": "stdout",
     "output_type": "stream",
     "text": [
      "PG\n",
      "NFLX\n",
      "MPWR\n",
      "KEYS\n",
      "KLAC\n",
      "JNJ\n",
      "INTU\n",
      "GNRC\n",
      "EL\n",
      "EXP\n",
      "DEO\n",
      "CTAS\n",
      "CABO\n",
      "BKE\n",
      "ALLE\n",
      "APD\n",
      "WAL\n",
      "MMM\n",
      "DECK\n",
      "CLX\n",
      "CHE\n",
      "BHP\n",
      "ATHM\n",
      "AME\n",
      "SSYS\n",
      "X\n",
      "BABA\n",
      "ECOM\n"
     ]
    }
   ],
   "source": [
    "def mappings():\n",
    "    \n",
    "    tickers = set()\n",
    "    sector = {}\n",
    "    industry = {}\n",
    "            \n",
    "    for _, k in combined_input.iterrows():\n",
    "        if ptr_utils.isvalid(k[constants.TICKER]) and k[constants.TICKER] not in tickers:\n",
    "            print(k[constants.TICKER])\n",
    "            industry[k[constants.TICKER]] = search.get_industry(k[constants.TICKER])                         \n",
    "            sector[k[constants.TICKER]] = search.get_sector(k[constants.TICKER])\n",
    "            tickers.add(k[constants.TICKER])\n",
    "            \n",
    "\n",
    "    filename = \"ticker_to_industry_mapping\"\n",
    "    key_header = \"ticker\"\n",
    "    value_header = \"industry\"\n",
    "    industry_up = dict_utils.sort_dictionary_by_keys(industry)\n",
    "    wd = csv_utils.make_csv(constants.path_csv, filename, industry_up, [key_header, value_header])\n",
    "    pd.read_csv(wd)\n",
    "    \n",
    "    filename = \"ticker_to_sector_mapping\"\n",
    "    key_header = \"ticker\"\n",
    "    value_header = \"sector\"\n",
    "    sector_up = dict_utils.sort_dictionary_by_keys(sector)\n",
    "    wd = csv_utils.make_csv(constants.path_csv, filename, sector_up, [key_header, value_header])\n",
    "    pd.read_csv(wd)\n",
    "\n",
    "    return \n",
    "\n",
    "mappings()\n"
   ]
  }
 ],
 "metadata": {
  "interpreter": {
   "hash": "e534e48711db4d1e1c48977d0d14ff85b1f16d41bcc4fdfd88268a329b3c9d66"
  },
  "kernelspec": {
   "display_name": "Python 3.7.9 64-bit",
   "language": "python",
   "name": "python3"
  },
  "language_info": {
   "codemirror_mode": {
    "name": "ipython",
    "version": 3
   },
   "file_extension": ".py",
   "mimetype": "text/x-python",
   "name": "python",
   "nbconvert_exporter": "python",
   "pygments_lexer": "ipython3",
   "version": "3.7.9"
  },
  "orig_nbformat": 4
 },
 "nbformat": 4,
 "nbformat_minor": 2
}
