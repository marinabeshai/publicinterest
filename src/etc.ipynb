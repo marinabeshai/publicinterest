{
 "cells": [
  {
   "cell_type": "code",
   "execution_count": 7,
   "metadata": {},
   "outputs": [
    {
     "name": "stdout",
     "output_type": "stream",
     "text": [
      "['Committee on Banking, Housing, and Urban Affairs (2019-2020)', 'Senate Committee on Armed Services (2019-2020)', 'Senate Committee on Budget (2019-2020)', 'Committee on Agriculture, Nutrition, and Forestry (2019-2020)']\n",
      "['Senate Committee on Appropriations (2019-2020)', 'Committee on Energy and Natural Resources (2019-2020)', 'Committee on Indian Affairs (2019-2020)', 'Committee on Agriculture, Nutrition, and Forestry (2019-2020)']\n"
     ]
    }
   ],
   "source": [
    "import helpers.search as search\n",
    "\n"
   ]
  }
 ],
 "metadata": {
  "interpreter": {
   "hash": "e534e48711db4d1e1c48977d0d14ff85b1f16d41bcc4fdfd88268a329b3c9d66"
  },
  "kernelspec": {
   "display_name": "Python 3.7.9 64-bit",
   "language": "python",
   "name": "python3"
  },
  "language_info": {
   "codemirror_mode": {
    "name": "ipython",
    "version": 3
   },
   "file_extension": ".py",
   "mimetype": "text/x-python",
   "name": "python",
   "nbconvert_exporter": "python",
   "pygments_lexer": "ipython3",
   "version": "3.7.9"
  },
  "orig_nbformat": 4
 },
 "nbformat": 4,
 "nbformat_minor": 2
}
