{
 "cells": [
  {
   "cell_type": "markdown",
   "metadata": {},
   "source": [
    "# PHASE 3: INSIDER TRADING"
   ]
  },
  {
   "cell_type": "code",
   "execution_count": 1,
   "metadata": {},
   "outputs": [],
   "source": [
    "import utils.csv_utils as csv_utils\n",
    "import utils.dir_utils as dir_utils\n",
    "import utils.dict_utils as dict_utils\n",
    "import utils.ptr_utils as ptr_utils\n",
    "import utils.constants as constants \n",
    "import helpers.official as official\n",
    "import helpers.search as search"
   ]
  },
  {
   "cell_type": "code",
   "execution_count": 2,
   "metadata": {},
   "outputs": [],
   "source": [
    "_, input_df = dir_utils.get_data(combined=True)\n",
    "_, house_input_df = dir_utils.get_data(house=True)\n",
    "_, senate_input_df = dir_utils.get_data(senate=True)\n",
    "\n",
    "sector_df = dir_utils.get_mapping(sector=True)\n",
    "industry_df = dir_utils.get_mapping(industry=True)\n",
    "\n",
    "# {canonical_name_input_based : link, ...}\n",
    "input_all_officials_name = {}\n",
    "\n",
    "# {link : canonical_name_input_based, ....}\n",
    "input_all_officials_link = {}\n",
    "input_house_officials_link = {}\n",
    "input_senate_officials_link = {}\n",
    "\n",
    "# (canonical_name_input_based, ...)\n",
    "names = set()\n",
    "\n",
    "for _,t in input_df.iterrows():        \n",
    "    name = official.get_name(t)\n",
    "        \n",
    "    if name not in names:    \n",
    "        link = search.get_wiki_link(name)\n",
    "        \n",
    "        if ptr_utils.isvalid(t[constants.REPRESENTATIVE]) and link not in input_house_officials_link:\n",
    "            input_house_officials_link = dict_utils.increment_dictionary(input_house_officials_link, link, name, not_math=True)\n",
    "        if ptr_utils.isvalid(t[constants.SENATOR]) and link not in input_senate_officials_link:\n",
    "            input_senate_officials_link = dict_utils.increment_dictionary(input_senate_officials_link, link, name, not_math=True)\n",
    "        \n",
    "        input_all_officials_link = dict_utils.increment_dictionary(input_all_officials_link, link, name, not_math=True)\n",
    "        input_all_officials_name = dict_utils.increment_dictionary(input_all_officials_name, name, link, not_math=True)\n",
    "\n",
    "        names.add(name)\n",
    "\n",
    "input_officials_objects = {}\n",
    "\n",
    "# {link : (canonical_name_input_based, official_object), ... }\n",
    "input_house_officials_objects = {}\n",
    "for link, person in input_house_officials_link.items(): \n",
    "    off = search.wiki_search(person)        \n",
    "    input_house_officials_objects[link] = (person, off)\n",
    "    input_officials_objects[link] = (person, off)\n",
    "        \n",
    "# {link : (canonical_name_input_based, official_object), ... }\n",
    "input_senate_officials_objects = {}\n",
    "for link, person in input_senate_officials_link.items():\n",
    "    off = search.wiki_search(person)        \n",
    "    input_senate_officials_objects[link] = (person, off)\n",
    "    input_officials_objects[link] = (person, off)\n",
    "    \n",
    "def t_to_obj(t):\n",
    "    name = official.get_name(t)\n",
    "    link = input_all_officials_name[name]\n",
    "    _, obj = input_officials_objects[link]\n",
    "    return obj"
   ]
  },
  {
   "cell_type": "markdown",
   "metadata": {},
   "source": [
    "### Committee and Sector Overlap"
   ]
  },
  {
   "cell_type": "code",
   "execution_count": 3,
   "metadata": {},
   "outputs": [
    {
     "name": "stdout",
     "output_type": "stream",
     "text": [
      "1017\n"
     ]
    }
   ],
   "source": [
    "# {'name (d-ia), commitee' : ticker, tdate}\n",
    "d = {}\n",
    "c = 0 \n",
    "\n",
    "for _,t in input_df.iterrows():\n",
    "    #  and  'Purchase' in t[constants.TYPE]\n",
    "    if ptr_utils.isvalid(t[constants.TICKER]):\n",
    "        name = official.get_name(t)\n",
    "        year = str(ptr_utils.get_year((t[constants.TDATE])))\n",
    "        sector = dir_utils.search_mapping(sector_df, t[constants.TICKER], sector=True)\n",
    "        obj = t_to_obj(t)\n",
    "        committees = obj.asgts\n",
    "        \n",
    "        for comm in committees:\n",
    "            comm_year = official.get_committee_year(comm)                \n",
    "            if sector in comm and year in comm_year: \n",
    "                c += 1 \n",
    "                d = dict_utils.increment_list_in_dictionary(d, (obj.get_label() + ' ' + comm), (t[constants.TICKER]))   \n",
    "                break \n",
    "\n",
    "print(c)"
   ]
  },
  {
   "cell_type": "code",
   "execution_count": 4,
   "metadata": {},
   "outputs": [
    {
     "name": "stdout",
     "output_type": "stream",
     "text": [
      "597\n",
      "420\n",
      "1017\n"
     ]
    }
   ],
   "source": [
    "def committee_and_industry(group):\n",
    "    # d = {name : { commitee : set(tickers)}, }\n",
    "    d = {} \n",
    "    # name : freq\n",
    "    freq_w_names = {}\n",
    "    count = 0\n",
    "    \n",
    "    for _,t in group.iterrows():\n",
    "        if ptr_utils.isvalid(t[constants.TICKER]):\n",
    "            name = official.get_name(t)\n",
    "            year = str(ptr_utils.get_year((t[constants.TDATE])))\n",
    "            sector = dir_utils.search_mapping(sector_df, t[constants.TICKER], sector=True)\n",
    "            obj = t_to_obj(t)\n",
    "            committees = obj.asgts\n",
    "            \n",
    "            for comm in committees:\n",
    "                comm_year = official.get_committee_year(comm)                \n",
    "                if sector in comm and year in comm_year: \n",
    "                    d = dict_utils.increment_set_in_inner_dictionary(d, name, comm, t[constants.TICKER])\n",
    "                    freq_w_names = dict_utils.increment_dictionary(freq_w_names, name)\n",
    "                    count += 1\n",
    "                    break \n",
    "\n",
    "    flatten_freq_w_names = []\n",
    "    for k,v in freq_w_names.items():\n",
    "        link = input_all_officials_name[k]\n",
    "        _, obj = input_officials_objects[link]\n",
    "        flatten_freq_w_names.append([obj.get_label(), v, obj.get_color()])\n",
    "        \n",
    "    return d, flatten_freq_w_names, count          \n",
    "    \n",
    "d1, d2, c = committee_and_industry(house_input_df)\n",
    "print(c)\n",
    "d3, d4, c = committee_and_industry(senate_input_df)\n",
    "print(c)\n",
    "d5, people_doing_this, c = committee_and_industry(input_df)\n",
    "print(c)\n",
    "\n",
    "\n",
    "dir = dir_utils.makesubdir(constants.path_csv, constants.INSIDER)\n",
    "wd = csv_utils.make_csv_breakdown(dir, \"committee_and_sector_house\", d1,  \"\")\n",
    "wd = csv_utils.make_csv_breakdown(dir, \"committee_and_sector_senate\", d3,  \"\")\n",
    "wd = csv_utils.make_csv_breakdown(dir, \"committee_and_sector_input\", d5,  \"\")\n",
    "\n",
    "wd = csv_utils.make_csv_base(dir, \"committee_and_sector_house_names\", [\"name\", \"count\", \"color\"], d2)\n",
    "wd = csv_utils.make_csv_base(dir, \"committee_and_sector_senate_names\", [\"name\", \"count\", \"color\"], d4)\n",
    "wd = csv_utils.make_csv_base(dir, \"committee_and_sector_input_names\", [\"name\", \"count\", \"color\"], people_doing_this)"
   ]
  },
  {
   "cell_type": "code",
   "execution_count": 5,
   "metadata": {},
   "outputs": [],
   "source": [
    "people = []\n",
    "for k, _, _ in people_doing_this:\n",
    "    k = k[ : k.find(\" (\")]\n",
    "    people.append(k)"
   ]
  },
  {
   "cell_type": "code",
   "execution_count": 6,
   "metadata": {},
   "outputs": [
    {
     "name": "stdout",
     "output_type": "stream",
     "text": [
      "{'25-44': 4, '45-64': 18, '65-84': 25, '85-100': 0}\n",
      "{'25-44': 0.09, '45-64': 0.38, '65-84': 0.53, '85-100': 0.0}\n"
     ]
    }
   ],
   "source": [
    "# {'25-44': 4, '45-64': 18, '65-84': 25, '85-100': 0}\n",
    "ages = dict(constants.age_groups)\n",
    "for k in people:\n",
    "    link = input_all_officials_name[k]\n",
    "    _, obj = input_officials_objects[link]    \n",
    "    ages = dict_utils.increment_dictionary(ages, ptr_utils.which_age_group(obj.get_age())) \n",
    "\n",
    "ages_normalized = {}\n",
    "for k,v in ages.items():\n",
    "    ages_normalized[k] = round(v/len(people), 2) \n",
    "\n",
    "ages = dict_utils.sort_dictionary_by_keys(ages)\n",
    "ages_normalized = dict_utils.sort_dictionary_by_keys(ages_normalized)\n",
    "\n",
    "print(ages)\n",
    "print(ages_normalized)"
   ]
  },
  {
   "cell_type": "code",
   "execution_count": 7,
   "metadata": {},
   "outputs": [
    {
     "name": "stdout",
     "output_type": "stream",
     "text": [
      "{'Democratic, female': 5, 'Democratic, male': 16, 'Independent, male': 1, 'Republican, female': 3, 'Republican, male': 22}\n",
      "{'Democratic, female': 0.11, 'Democratic, male': 0.34, 'Independent, male': 0.02, 'Republican, female': 0.06, 'Republican, male': 0.47}\n"
     ]
    }
   ],
   "source": [
    "# {'Republican, male': 0.47, 'Democratic, male': 0.34, 'Democratic, female': 0.11, 'Republican, female': 0.06, 'Independent, male': 0.02}\n",
    "genderandparty = {}\n",
    "    \n",
    "for k in people:\n",
    "    link = input_all_officials_name[k]\n",
    "    _, obj = input_officials_objects[link]    \n",
    "    genderandparty = dict_utils.increment_dictionary(genderandparty,  obj.party + \", \" + official.get_gender(k) ) \n",
    "\n",
    "genderandparty_normalized = {}\n",
    "for k,v in genderandparty.items():\n",
    "    genderandparty_normalized[k] = round(v/len(people), 2) \n",
    "\n",
    "genderandparty = dict_utils.sort_dictionary_by_keys(genderandparty)\n",
    "genderandparty_normalized = dict_utils.sort_dictionary_by_keys(genderandparty_normalized)\n",
    "\n",
    "print(genderandparty)\n",
    "print(genderandparty_normalized)"
   ]
  },
  {
   "cell_type": "code",
   "execution_count": 8,
   "metadata": {},
   "outputs": [
    {
     "name": "stdout",
     "output_type": "stream",
     "text": [
      "{'AB': 2, 'BA': 31, 'BBA': 1, 'BEng': 1, 'BS': 12, 'DVM': 1, 'JD': 21, 'MA': 8, 'MBA': 9, 'MD': 2, 'MEd': 1, 'MPA': 1, 'MPP': 1, 'MS': 4, 'MSc': 1}\n",
      "{'AB': 0.04, 'BA': 0.66, 'BBA': 0.02, 'BEng': 0.02, 'BS': 0.26, 'DVM': 0.02, 'JD': 0.45, 'MA': 0.17, 'MBA': 0.19, 'MD': 0.04, 'MEd': 0.02, 'MPA': 0.02, 'MPP': 0.02, 'MS': 0.09, 'MSc': 0.02}\n"
     ]
    }
   ],
   "source": [
    "# {'BA': 0.66, 'JD': 0.45, 'BS': 0.26, 'MBA': 0.19, 'MA': 0.17, 'MS': 0.09, 'MD': 0.04, 'AB': 0.04, 'MPP': 0.02, 'MEd': 0.02, 'DVM': 0.02, 'BEng': 0.02, 'MSc': 0.02, 'MPA': 0.02, 'BBA': 0.02}\n",
    "degrees = {}\n",
    "    \n",
    "for k in people:\n",
    "    link = input_all_officials_name[k]\n",
    "    _, obj = input_officials_objects[link]    \n",
    "    for d in obj.get_degrees():\n",
    "        degrees = dict_utils.increment_dictionary(degrees,  d) \n",
    "\n",
    "degrees_normalized = {}\n",
    "for k,v in degrees.items():\n",
    "    degrees_normalized[k] = round(v/len(people), 2) \n",
    "\n",
    "degrees = dict_utils.sort_dictionary_by_keys(degrees)\n",
    "degrees_normalized = dict_utils.sort_dictionary_by_keys(degrees_normalized)\n",
    "\n",
    "print(degrees)\n",
    "print(degrees_normalized)"
   ]
  },
  {
   "cell_type": "code",
   "execution_count": 9,
   "metadata": {},
   "outputs": [
    {
     "name": "stdout",
     "output_type": "stream",
     "text": [
      "{'female': 8, 'male': 39}\n",
      "{'female': 0.17, 'male': 0.83}\n"
     ]
    }
   ],
   "source": [
    "# {'male': 0.83, 'female': 0.17}\n",
    "gender = {}\n",
    "    \n",
    "for k in people:\n",
    "    link = input_all_officials_name[k]\n",
    "    _, obj = input_officials_objects[link]    \n",
    "    gender = dict_utils.increment_dictionary(gender, official.get_gender(k)) \n",
    "\n",
    "gender_normalized = {}\n",
    "for k,v in gender.items():\n",
    "    gender_normalized[k] = round(v/len(people), 2) \n",
    "\n",
    "gender = dict_utils.sort_dictionary_by_keys(gender)\n",
    "gender_normalized = dict_utils.sort_dictionary_by_keys(gender_normalized)\n",
    "\n",
    "print(gender)\n",
    "print(gender_normalized)"
   ]
  },
  {
   "cell_type": "code",
   "execution_count": 10,
   "metadata": {},
   "outputs": [
    {
     "name": "stdout",
     "output_type": "stream",
     "text": [
      "{'Democratic': 21, 'Independent': 1, 'Republican': 25}\n",
      "{'Democratic': 0.45, 'Independent': 0.02, 'Republican': 0.53}\n"
     ]
    }
   ],
   "source": [
    "# {'Republican': 0.53, 'Democratic': 0.45, 'Independent': 0.02}\n",
    "party = {}\n",
    "\n",
    "    \n",
    "for k in people:\n",
    "    link = input_all_officials_name[k]\n",
    "    _, obj = input_officials_objects[link]    \n",
    "    party = dict_utils.increment_dictionary(party,  obj.party) \n",
    "\n",
    "party_normalized = {}\n",
    "for k,v in party.items():\n",
    "    party_normalized[k] = round(v/len(people), 2) \n",
    "\n",
    "party = dict_utils.sort_dictionary_by_keys(party)\n",
    "party_normalized = dict_utils.sort_dictionary_by_keys(party_normalized)\n",
    "\n",
    "print(party)\n",
    "print(party_normalized)"
   ]
  },
  {
   "cell_type": "code",
   "execution_count": 11,
   "metadata": {},
   "outputs": [
    {
     "name": "stdout",
     "output_type": "stream",
     "text": [
      "{1: 5, 2: 2, 3: 6, 4: 1, 5: 3, 6: 1, 7: 2, 8: 1, 9: 2, 10: 1, 11: 5, 13: 3, 15: 4, 21: 1, 23: 2, 25: 2, 27: 1, 31: 2, 35: 2, 41: 1}\n",
      "{1: 0.11, 2: 0.04, 3: 0.13, 4: 0.02, 5: 0.06, 6: 0.02, 7: 0.04, 8: 0.02, 9: 0.04, 10: 0.02, 11: 0.11, 13: 0.06, 15: 0.09, 21: 0.02, 23: 0.04, 25: 0.04, 27: 0.02, 31: 0.04, 35: 0.04, 41: 0.02}\n"
     ]
    }
   ],
   "source": [
    "# {1: 0.81, 13: 0.04, 31: 0.04, 25: 0.02, 41: 0.02, 23: 0.02, 21: 0.02, 5: 0.02}\n",
    "seniority = {}\n",
    "    \n",
    "for k in people:\n",
    "    link = input_all_officials_name[k]\n",
    "    _, obj = input_officials_objects[link]    \n",
    "    if obj.get_seniority() == 1 and len(obj.get_congress()) > 1:\n",
    "        l = [] \n",
    "        if obj._senate:\n",
    "            l.append(obj._senate)\n",
    "        if obj._house:\n",
    "            l.append(obj._house)\n",
    "        if len(l) == 1 and \"-\" in l and l[0].split(\"-\")[0] == l[0].split(\"-\")[1]:\n",
    "            print(\"hi\")\n",
    "        print(l)\n",
    "        if len(l) == 1 and \"-\" not in l[0]:\n",
    "            print(\"bye\")\n",
    "        # print(obj.check())\n",
    "        \n",
    "    seniority = dict_utils.increment_dictionary(seniority,  obj.get_seniority()) \n",
    "\n",
    "seniority_normalized = {}\n",
    "for k,v in seniority.items():\n",
    "    seniority_normalized[k] = round(v/len(people), 2) \n",
    "\n",
    "seniority = dict_utils.sort_dictionary_by_keys(seniority)\n",
    "seniority_normalized = dict_utils.sort_dictionary_by_keys(seniority_normalized)\n",
    "\n",
    "print(seniority)\n",
    "print(seniority_normalized)"
   ]
  },
  {
   "cell_type": "code",
   "execution_count": 12,
   "metadata": {},
   "outputs": [
    {
     "name": "stdout",
     "output_type": "stream",
     "text": [
      "{'New Jersey': 4, 'Michigan': 3, 'Texas': 3, 'Kansas': 2, 'Tennessee': 2, 'Alabama': 2, 'Colorado': 2, 'Rhode Island': 2, 'Maine': 2, 'Oregon': 2, 'Georgia': 2, 'North Carolina': 2, 'California': 2, 'Louisiana': 1, 'North Dakota': 1, 'Washington': 1, 'West Virginia': 1, 'Delaware': 1, 'Ohio': 1, 'Virginia': 1, 'Missouri': 1, 'Minnesota': 1, 'Iowa': 1, 'New York': 1, 'Montana': 1, 'Vermont': 1, 'Utah': 1, 'South Carolina': 1, 'Indiana': 1, 'Massachusetts': 1}\n",
      "{'New Jersey': 0.09, 'Michigan': 0.06, 'Texas': 0.06, 'Kansas': 0.04, 'Tennessee': 0.04, 'Alabama': 0.04, 'Colorado': 0.04, 'Rhode Island': 0.04, 'Maine': 0.04, 'Oregon': 0.04, 'Georgia': 0.04, 'North Carolina': 0.04, 'California': 0.04, 'Louisiana': 0.02, 'North Dakota': 0.02, 'Washington': 0.02, 'West Virginia': 0.02, 'Delaware': 0.02, 'Ohio': 0.02, 'Virginia': 0.02, 'Missouri': 0.02, 'Minnesota': 0.02, 'Iowa': 0.02, 'New York': 0.02, 'Montana': 0.02, 'Vermont': 0.02, 'Utah': 0.02, 'South Carolina': 0.02, 'Indiana': 0.02, 'Massachusetts': 0.02}\n"
     ]
    }
   ],
   "source": [
    "# {'New Jersey': 0.09, 'Michigan': 0.06, 'Texas': 0.06, 'Kansas': 0.04, 'Tennessee': 0.04, 'Alabama': 0.04, 'Colorado': 0.04, 'Rhode Island': 0.04, 'Maine': 0.04, 'Oregon': 0.04, 'Georgia': 0.04, 'North Carolina': 0.04, 'California': 0.04, 'Louisiana': 0.02, 'North Dakota': 0.02, 'Washington': 0.02, 'West Virginia': 0.02, 'Delaware': 0.02, 'Ohio': 0.02, 'Virginia': 0.02, 'Missouri': 0.02, 'Minnesota': 0.02, 'Iowa': 0.02, 'New York': 0.02, 'Montana': 0.02, 'Vermont': 0.02, 'Utah': 0.02, 'South Carolina': 0.02, 'Indiana': 0.02, 'Massachusetts': 0.02}\n",
    "state = {}\n",
    "\n",
    "for k in people:\n",
    "    link = input_all_officials_name[k]\n",
    "    _, obj = input_officials_objects[link]    \n",
    "    state = dict_utils.increment_dictionary(state,  obj.state) \n",
    "\n",
    "state_normalized = {}\n",
    "for k,v in state.items():\n",
    "    state_normalized[k] = round(v/len(people), 2) \n",
    "\n",
    "state = dict_utils.sort_dictionary_by_values(state)\n",
    "state_normalized = dict_utils.sort_dictionary_by_values(state_normalized)\n",
    "\n",
    "print(state)\n",
    "print(state_normalized)"
   ]
  },
  {
   "cell_type": "code",
   "execution_count": 13,
   "metadata": {},
   "outputs": [
    {
     "name": "stdout",
     "output_type": "stream",
     "text": [
      "{'11, male': 5, '1, male': 4, '15, male': 4, '3, male': 4, '13, male': 3, '5, male': 3, '9, male': 2, '31, male': 2, '7, male': 2, '3, female': 2, '2, male': 2, '35, male': 2, '25, male': 1, '41, male': 1, '6, male': 1, '25, female': 1, '23, female': 1, '21, female': 1, '4, male': 1, '23, male': 1, '27, female': 1, '1, female': 1, '8, female': 1, '10, male': 1}\n",
      "{'11, male': 0.11, '1, male': 0.09, '15, male': 0.09, '3, male': 0.09, '13, male': 0.06, '5, male': 0.06, '9, male': 0.04, '31, male': 0.04, '7, male': 0.04, '3, female': 0.04, '2, male': 0.04, '35, male': 0.04, '25, male': 0.02, '41, male': 0.02, '6, male': 0.02, '25, female': 0.02, '23, female': 0.02, '21, female': 0.02, '4, male': 0.02, '23, male': 0.02, '27, female': 0.02, '1, female': 0.02, '8, female': 0.02, '10, male': 0.02}\n"
     ]
    }
   ],
   "source": [
    "# {'1, male': 0.68, \n",
    "#  '1, female': 0.13, \n",
    "#  '13, male': 0.04, \n",
    "#  '31, male': 0.04, \n",
    "#  '25, male': 0.02, \n",
    "#  '41, male': 0.02, \n",
    "#  '23, female': 0.02, \n",
    "#  '21, female': 0.02, \n",
    "#  '5, male': 0.02}\n",
    "seniority_gender = {}\n",
    "\n",
    "for k in people:\n",
    "    link = input_all_officials_name[k]\n",
    "    _, obj = input_officials_objects[link]    \n",
    "    seniority_gender = dict_utils.increment_dictionary(seniority_gender,  str(obj.get_seniority()) + \", \" + official.get_gender(k) ) \n",
    "\n",
    "seniority_gender_normalized = {}\n",
    "for k,v in seniority_gender.items():\n",
    "    seniority_gender_normalized[k] = round(v/len(people), 2) \n",
    "\n",
    "seniority_gender = dict_utils.sort_dictionary_by_values(seniority_gender)\n",
    "seniority_gender_normalized = dict_utils.sort_dictionary_by_values(seniority_gender_normalized)\n",
    "\n",
    "print(seniority_gender)\n",
    "print(seniority_gender_normalized)"
   ]
  },
  {
   "cell_type": "code",
   "execution_count": 14,
   "metadata": {},
   "outputs": [],
   "source": [
    "# where they buys/purchases/sales/ etc?!?!??!??!?!?!? "
   ]
  },
  {
   "cell_type": "code",
   "execution_count": 15,
   "metadata": {},
   "outputs": [
    {
     "name": "stdout",
     "output_type": "stream",
     "text": [
      "{'Committee on Energy and Commerce': 0.51, 'Committee on Science, Space, and Technology': 0.47, 'Committee on Energy and Natural Resources': 0.38, 'Committee on Finance': 0.32, 'Committee on Commerce, Science, and Transportation': 0.3, 'Committee on Intelligence': 0.28, 'Energy and Commerce Committee': 0.28, 'Committee on Environment and Public Works': 0.26, 'Committee on Financial Services': 0.26, 'Committee on Health, Education, Labor, and Pensions': 0.23, 'Senate Committee on Appropriations': 0.23, 'Committee on Banking, Housing, and Urban Affairs': 0.23, 'Armed Services Committee': 0.23, 'Subcommittee on Energy': 0.23, 'Appropriations Committee': 0.21, 'Senate Committee on Armed Services': 0.21, 'Committee on Agriculture': 0.21, 'Subcommittee on Oversight and Investigations': 0.21, 'Committee on Indian Affairs': 0.19, 'Committee on the Judiciary': 0.19, 'Joint Economic Committee': 0.19, 'Committee on Judiciary': 0.19, 'Special Committee on Aging': 0.17, 'Committee on Agriculture, Nutrition, and Forestry': 0.17, 'Committee on Small Business and Entrepreneurship': 0.17, 'Environment and Public Works Committee': 0.17, 'Energy and Natural Resources Committee': 0.17, 'Finance Committee': 0.17, 'Committee on Foreign Affairs': 0.17, 'House Committee on Armed Services': 0.17, 'Subcommittee on Children and Families': 0.15, 'Subcommittee on Primary Health and Retirement Security': 0.15, \"Senate Committee on Veterans' Affairs\": 0.15, 'Homeland Security and Governmental Affairs Committee': 0.15, 'Committee on Rules and Administration': 0.15, 'Budget Committee': 0.15, 'Judiciary Committee': 0.15, 'Committee on Armed Services': 0.15, 'Subcommittee on Strategic Forces': 0.15, 'Select Committee on Intelligence': 0.15, 'Subcommittee on Public Lands, Forests, and Mining': 0.15, 'Subcommittee on Health': 0.15, 'Committee on Homeland Security and Governmental Affairs': 0.15, 'Financial Services Committee': 0.15, 'Committee on Transportation and Infrastructure': 0.15, 'Science, Space, and Technology Committee': 0.15, 'Subcommittee on Communications and Technology': 0.15, 'Subcommittee on Aviation Operations, Safety, and Security': 0.13, 'Subcommittee on Communications, Technology, and the Internet': 0.13, 'Subcommittee on Agriculture, Rural Development, Food and Drug Administration, and Related Agencies': 0.13, 'Committee on Aging': 0.13, 'Subcommittee on Clean Air and Nuclear Safety': 0.13, 'Subcommittee on Transportation and Infrastructure': 0.13, 'Subcommittee on National Parks': 0.13, 'Joint Committee on Taxation': 0.13, 'Subcommittee on Taxation and IRS Oversight': 0.13, 'Subcommittee on Energy, Natural Resources, and Infrastructure': 0.13, 'Commerce, Justice, Science, and Related Agencies': 0.11, 'Committee on Appropriations': 0.11, 'Indian Affairs Committee': 0.11, 'Commerce, Science, and Transportation Committee': 0.11, 'Subcommittee on Surface Transportation and Merchant Marine Infrastructure, Safety, and Security': 0.11, \"Veterans' Affairs Committee\": 0.11, 'Small Business and Entrepreneurship Committee': 0.11, 'Subcommittee on Employment and Workplace Safety': 0.11, 'Energy': 0.11, 'Subcommittee on Privacy, Technology and the Law': 0.11, 'Senate Committee on Budget': 0.11, 'Committee on the Budget': 0.11, 'Subcommittee on Military Construction and Veterans Affairs, and Related Agencies': 0.11, 'Subcommittee on Energy and Power': 0.11, 'Subcommittee on Environment and the Economy': 0.11, 'Subcommittee on Commerce, Justice, Science, and Related Agencies': 0.11, 'Subcommittee on Oceans, Atmosphere, Fisheries, and Coast Guard': 0.11, 'Subcommittee on Highways and Transit': 0.11, 'Subcommittee on Capital Markets and Government Sponsored Enterprises': 0.11, 'Committee on Homeland Security': 0.11, 'Subcommittee on Commerce, Manufacturing and Trade': 0.11, 'Homeland Security Committee': 0.11, 'Foreign Affairs Committee': 0.11, 'Committee on Rules': 0.11, 'Subcommittee on Department of Defense': 0.09, 'Subcommittee on Departments of Labor, Health and Human Services, and Education, and Related Agencies': 0.09, 'Subcommittee on Transportation and Housing and Urban Development, and Related Agencies': 0.09, 'Committee on Foreign Relations': 0.09, 'Military Construction, Veterans Affairs, and Related Agencies': 0.09, 'Subcommittee on Rural Development and Energy': 0.09, 'Subcommittee on Conservation, Climate, Forestry, and Natural Resources': 0.09, 'Subcommittee on Fisheries, Water, and Wildlife': 0.09, 'Health, Education, Labor, and Pensions Committee': 0.09, 'Subcommittee on Oversight': 0.09, 'Subcommittee on Energy and Water Development': 0.09, 'Subcommittee on Military Construction, Veterans Affairs, and Related Agencies': 0.09, 'Appropriations': 0.09, 'Research and Technology': 0.09, 'Subcommittee on Space': 0.09, 'Agriculture Committee': 0.09, 'Subcommittee on General Farm Commodities and Risk Management': 0.09, 'Subcommittee on Aviation': 0.09, 'Committee on Ethics': 0.09, 'House Committee on Budget': 0.09, 'Committee on Oversight and Government Reform': 0.09, 'Subcommittee on Fisheries, Wildlife, Oceans and Insular Affairs': 0.09, 'Defense': 0.06, 'Labor, Health and Human Services, Education, and Related Agencies': 0.06, 'Financial Institutions and Consumer Protection': 0.06, \"Committee on Veterans' Affairs\": 0.06, 'Subcommittee on Consumer Protection, Product Safety, and Insurance': 0.06, 'Subcommittee on Space, Science, and Competitiveness': 0.06, 'Interior, Environment, and Related Agencies': 0.06, 'Strategic Forces': 0.06, 'Public Lands, Forests, and Mining': 0.06, 'Subcommittee on The Constitution': 0.06, 'Subcommittee on Crime and Terrorism': 0.06, 'Subcommittee on Federal Courts, Oversight, Agency Action, and Federal Rights': 0.06, 'Subcommittee on Water and Wildlife': 0.06, 'Joint Committee on Printing': 0.06, 'Airland': 0.06, 'Seapower': 0.06, 'Subcommittee on Personnel': 0.06, 'Subcommittee on SeaPower': 0.06, 'Energy and Natural Resources': 0.06, 'Rules and Administration Committee': 0.06, 'Subcommittee on International Trade, Customs, and Global Competitiveness': 0.06, 'Subcommittee on Health Care': 0.06, 'Subcommittee on Department of the Interior, Environment, and Related Agencies': 0.06, 'Subcommittee on Food and Nutrition, Specialty Crops, Organics, and Research': 0.06, 'Transportation, Housing and Urban Development, and Related Agencies': 0.06, 'Agriculture, Nutrition, and Forestry Committee': 0.06, 'Subcommittee on Interior, Environment, and Related Agencies': 0.06, 'Subcommittee on Emerging Threats and Capabilities': 0.06, 'Joint Committee on the Library': 0.06, 'Subcommittee on Railroads, Pipelines, and Hazardous Materials': 0.06, 'Subcommittee on Water Resources and Environment': 0.06, 'Transportation and Infrastructure Committee': 0.06, 'Subcommittee on Monetary Policy and Trade': 0.06, 'Small Business Committee': 0.06, 'Permanent Subcommittee on Investigations': 0.06, 'Subcommittee on Investor Protection, Entrepreneurship and Capital Markets': 0.06, 'Committee on Natural Resources': 0.06, 'Natural Resources Committee': 0.06, 'Subcommittee on Energy and Mineral Resources': 0.06, 'Committee on Small Business': 0.06, 'Europe, Energy, the Environment and Cyber': 0.06, 'Subcommittee on Asia and the Pacific': 0.06, 'Subcommittee on Research and Science Education': 0.06, 'Subcommittee on Transportation Security': 0.06, 'Courts, Intellectual Property, and the Internet': 0.06, 'Subcommittee on Courts, Intellectual Property, and the Internet': 0.06, 'Committee on House Administration': 0.06, 'Subcommittee on Readiness': 0.06, 'Agriculture, Rural Development, Food and Drug Administration, and Related Agencies': 0.04, 'State, Foreign Operations, and Related Programs': 0.04, 'Housing, Transportation, and Community Development': 0.04, 'Securities, Insurance, and Investment': 0.04, 'Subcommittee on Legislative Branch': 0.04, 'Subcommittee on State, Foreign Operations, and Related Programs': 0.04, 'Banking, Housing, and Urban Affairs Committee': 0.04, 'Subcommittee on Housing, Transportation, and Community Development': 0.04, 'Subcommittee on Securities, Insurance, and Investment': 0.04, 'Banking, Housing and Urban Affairs Committee': 0.04, 'Subcommittee on Financial Institutions and Consumer Protection Members': 0.04, 'Subcommittee on Housing, Transportation and Community Development': 0.04, 'Subcommittee On Near East, South Asia, Central Asia, And Counterterrorism': 0.04, 'Energy and Water Development': 0.04, 'Commodities, Risk Management and Trade': 0.04, 'Emerging Threats and Capabilities': 0.04, 'Personnel': 0.04, 'Aviation Safety, Operations, and Innovation': 0.04, 'Communications, Media, and Broadband': 0.04, 'Tourism, Trade, and Export Promotion': 0.04, 'Water and Power': 0.04, 'Subcommittee on Water & Power': 0.04, 'Committee on Budget': 0.04, 'Subcommittee on Water and Power': 0.04, 'Homeland Security': 0.04, 'Subcommittee on Commodities, Risk Management and Trade': 0.04, 'Subcommittee on Nutrition, Specialty Crops and Agricultural Research': 0.04, 'Agriculture, Nutrition and Forestry': 0.04, 'Indian Affairs': 0.04, 'Subcommittee on Labor, Health and Human Services, Education, and Related Agencies': 0.04, 'Subcommittee on Transportation, Housing and Urban Development, and Related Agencies': 0.04, 'Banking, Housing and Urban Affairs': 0.04, 'Armed Services': 0.04, 'Subcommittee on Antitrust, Competition Policy and Consumer Rights': 0.04, 'Subcommittee on Immigration and The National Interest': 0.04, 'Commerce, Science & Transportation Committee': 0.04, 'Subcommittee on Healthcare': 0.04, 'Small Business & Entrepreneurship Committee': 0.04, 'Subcommittee on Federal Spending Oversight and Emergency Management': 0.04, 'Subcommittee on Regulatory Affairs and Federal Management': 0.04, 'Subcommittee on Superfund, Waste Management, and Regulatory Oversight': 0.04, 'Subcommittee on Green Jobs and the New Economy': 0.04, 'Subcommittee on Competition Policy, Antitrust, and Consumer Rights': 0.04, 'Subcommittee on Immigration, Citizenship, and Border Safety': 0.04, 'Subcommittee on Livestock, Dairy, Poultry, Local Food Systems, and Food Safety and Security': 0.04, 'Subcommittee on National Security, International Development and Monetary Policy': 0.04, 'Committee on Ways and Means': 0.04, 'Subcommittee on Counterterrorism and Intelligence': 0.04, 'Subcommittee on Cybersecurity, Infrastructure Protection, and Security Technologies': 0.04, 'Subcommittee on Europe, Eurasia, and Emerging Threats': 0.04, 'Subcommittee on Space and Aeronautics': 0.04, 'Subcommittee on Investigations and Oversight': 0.04, 'Subcommittee on Commodity Exchanges, Energy, and Credit': 0.04, 'Subcommittee on Biotechnology, Horticulture, and Research': 0.04, 'Subcommittee on Rules and Organization of the House': 0.04, 'Constitution, Civil Rights, and Civil Liberties': 0.04, 'Subcommittee on the Constitution and Civil Justice': 0.04, 'Committee on Education and the Workforce': 0.04, 'House Administration Committee': 0.04, 'House Committee on Natural Resources': 0.04, 'Subcommittee on Oversight & Investigations': 0.04, 'Subcommittee on Military Personnel': 0.04, 'Financial Services and General Government': 0.02, 'Subcommittee on Financial Services and General Government': 0.02, 'Subcommittee on Economic Policy': 0.02, 'Subcommittee on Department of Homeland': 0.02, 'Subcommittee on Financial Services and General Government Members': 0.02, 'Subcommittee on National Security and International Trade and Finance': 0.02, \"Subcommittee On Western Hemisphere, Transnational Crime, Civilian Security, Democracy, Human Rights, And Global Women's Issues\": 0.02, 'Subcommittee On State Department And USAID Management, International Operations, And Bilateral International Development': 0.02, 'Subcommittee On East Asia, The Pacific, And International Cybersecurity Policy': 0.02, 'National Security and International Trade and Finance': 0.02, 'Space and Science': 0.02, 'Clean Air, Climate, and Nuclear Safety': 0.02, 'Fisheries, Water, and Wildlife': 0.02, 'Transportation and Infrastructure': 0.02, 'Commission on Security and Cooperation in Europe': 0.02, 'Senate Caucus on International Narcotics Control': 0.02, 'Subcommittee on Oversight, Federal Rights and Agency Action': 0.02, 'Subcommittee on Primary Health and Aging': 0.02, 'Bankruptcy and the Courts subcommittee': 0.02, 'Budget': 0.02, 'Environment and Public Works': 0.02, 'Health, Education, Labor and Pensions': 0.02, 'Judiciary': 0.02, 'Aging': 0.02, 'Senate Select Committee on Intelligence': 0.02, 'Subcommittee on Public Lands and Forests': 0.02, 'Subcommittee on Department of Homeland Security': 0.02, 'Subcommittee on Commerce, Manufacturing, and Trade': 0.02, 'Subcommittee on Homeland Security': 0.02, 'Subcommittee on Jobs, Rural Economic Growth and Energy Innovation': 0.02, 'Subcommittee on Commodities, Markets, Trade and Risk Management': 0.02, 'Legislative Branch': 0.02, 'Subcommittee on Defense': 0.02, 'Subcommittee on Financial Institutions and Consumer Protection': 0.02, 'Subcommittee on Securities, Insurance and Investment': 0.02, 'Subcommittee on Conservation, Forestry and Natural Resources': 0.02, 'Foreign Relations Committee': 0.02, 'Subcommittee on Multilateral International Development, Multilateral Institutions, and International Economic, Energy, and Environmental Policy': 0.02, 'Subcommittee on State Department and USAID Management, International Operations, and Bilateral International Development': 0.02, 'Subcommittee on Near East, South Asia, Central Asia, and Counterterrorism': 0.02, \"Subcommittee on Western Hemisphere, Transnational Crime, Civilian Security, Democracy, Human Rights and Global Women's Issues\": 0.02, 'Surface Transportation, Maritime, Freight, and Ports': 0.02, 'Subcommittee on the Legislative Branch': 0.02, 'Subcommittee on Housing and Insurance': 0.02, 'Subcommittee on Economic Development': 0.02, 'Subcommittee on Railroads, Pipelines and Hazardous Material': 0.02, 'Subcommittee on Domestic Monetary Policy and Technology': 0.02, 'Subcommittee on Healthcare and Technology': 0.02, 'Subcommittee on Economic Growth, Tax and Capital Access': 0.02, 'Subcommittee on Government Operations and Border Management': 0.02, 'Subcommittee on Emergency Management, Intergovernmental Relations, and the District of Columbia': 0.02, 'Subcommittee on the Efficiency and Effectiveness of Federal Programs and the Federal Workforce': 0.02, 'Subcommittee on Financial and Contracting Oversight': 0.02, 'Subcommittee on Federal Financial Management, Government Information, Federal Services, and International Security': 0.02, 'Ad Hoc Subcommittee on Contracting Oversight': 0.02, 'Subcommittee on Intellectual Property': 0.02, 'Economic Policy': 0.02, 'Subcommittee on Livestock, Marketing and Agriculture Security': 0.02, 'Subcommittee on Seapower': 0.02, 'Subcommittee On Multilateral International Development, Multilateral Institutions, And International Economic, Energy, And Environmental Policy': 0.02, 'Subcommittee On Africa And Global Health Policy': 0.02, 'Subcommittee on Superfund, Toxics and Environmental Health': 0.02, 'Subcommittee on Diversity and Inclusion': 0.02, 'Environment': 0.02, 'Space and Aeronautics': 0.02, 'Subcommittee on Federal Lands': 0.02, 'Subcommittee on Conservation, Energy, and Forestry': 0.02, 'Subcommittee on Horticulture, Research, Biotechnology, and Foreign Agriculture': 0.02, 'Subcommittee on Livestock, Rural Development, and Credit': 0.02, 'Subcommittee on Finance and Tax man': 0.02, 'Subcommittee on Contracting and Technology': 0.02, 'Subcommittee on Department Operations, Oversight, Nutrition and Forestry': 0.02, 'Subcommittee on Horticulture and Organic Agriculture': 0.02, 'Subcommittee on Oversight, Investigations, and Management': 0.02, 'Oversight, Management, and Accountability': 0.02, 'Intelligence and Counterterrorism': 0.02, 'Cyber, Innovative Technologies and Information Systems': 0.02, 'Subcommittee on Terrorism, Nonproliferation and Trade': 0.02, 'Africa, Global Health, and Global Human Rights': 0.02, 'Subcommittee on Housing, Community Development and Insurance': 0.02, 'House Committee on Appropriations': 0.02, 'Transportation, and Housing and Urban Development, and Related Agencies': 0.02, 'Subcommittee on Nutrition, Oversight, and Department Operations': 0.02, 'Senate Health Committee': 0.02, 'Consumer Protection Committee': 0.02, 'Senate Transportation Committee': 0.02, 'Senate Aging Committee': 0.02, 'Investigations and Government Operations Committee': 0.02, 'Internet and Technology Committee': 0.02, 'Subcommittee on Consumer Protection and Financial Institutions': 0.02, 'Rules and Organization of the House': 0.02, 'Subcommittee on Financial Institutions and Consumer Credit': 0.02, 'Counterterrorism, Counterintelligence, and Counterproliferation': 0.02, 'Defense Intelligence and Warfighter Support': 0.02, 'National Security': 0.02, 'Oversight and Government Reform Committee': 0.02, 'House Committee on Oversight and Government Reform': 0.02, 'Subcommittee on Rural Development, Research, Biotechnology and Foreign Agriculture': 0.02, 'Subcommittee on National Security, Homeland Defense and Foreign Operations': 0.02, 'Subcommittee on TARP, Financial Services and Bailouts of Public and Private Programs': 0.02, 'Civil Rights and Civil Liberties': 0.02, 'Rules Committee': 0.02, 'House Committee on Rules': 0.02, 'Crime, Terrorism, and Homeland Security': 0.02, 'Water, Oceans, and Wildlife': 0.02, 'Oversight and Investigations': 0.02, 'Subcommittee on Highways & Transit': 0.02, 'Subcommittee on Railroads, Pipelines & Hazardous Materials': 0.02, 'Subcommittee on Courts, Commercial and Administrative Law': 0.02, 'Subcommittee on Crime, Terrorism, and Homeland Security': 0.02, 'Tactical Air and Land Forces': 0.02, 'Intelligence and Special Operations': 0.02, 'Higher Education and Workforce Investment Subcommittee': 0.02, 'Immigration and Citizenship': 0.02, 'Subcommittee on Immigration and Border Security': 0.02, 'House Committee on House Administration': 0.02, 'House Committee on the Judiciary': 0.02, 'House Committee on Science, Space, and Technology': 0.02, 'Congress Joint Committee on the Library': 0.02, 'Subcommittee on Immigration Policy and Enforcement': 0.02, 'Subcommittee on Intellectual Property, Competition, and the Internet': 0.02, 'Subcommittee on Energy and Environment': 0.02, 'Subcommittee on Environment and Economy': 0.02, 'Subcommittee on the Environment and Economy': 0.02, 'Expedited Procedures': 0.02, 'Legislative and Budget Process': 0.02, 'Subcommittee on Department Operations, Oversight and Nutrition': 0.02, 'General Farm Commodities and Risk Management': 0.02, 'Subcommittee on Horticulture, Research, Biotechnology, and Foreign Agriculture,': 0.02, 'Subcommittee on Rural Development, Research, Biotechnology, and Foreign Agriculture': 0.02, 'Ethics Committee': 0.02, 'Select Committee on the Events Surrounding the 2012 Terrorist Attack in Benghazi': 0.02, 'Subcommittee on Health, Employment, Labor and Pensions': 0.02, 'Subcommittee on Higher Education and Workforce Training': 0.02, 'Subcommittee on Early Childhood, Elementary and Secondary Education': 0.02, 'Middle East, North Africa and Global Counterterrorism': 0.02, 'Subcommittee on Terrorism, Nonproliferation, and Trade': 0.02, 'Subcommittee on Counterterriorism and Intelligence': 0.02, 'Cybersecurity, Infrastructure Protection and Security Technologies Subcommittee': 0.02, 'Subcommittee on Agriculture, Energy and Trade': 0.02, 'Middle East and South Asia Subcommittee': 0.02, \"House Committee on Veterans' Affairs\": 0.02, 'Subcommittee on Economic Opportunity': 0.02, 'House Budget Committee': 0.02, 'Veterans’ Affairs Committee': 0.02}\n"
     ]
    },
    {
     "ename": "NameError",
     "evalue": "name 'buy' is not defined",
     "output_type": "error",
     "traceback": [
      "\u001b[0;31m---------------------------------------------------------------------------\u001b[0m",
      "\u001b[0;31mNameError\u001b[0m                                 Traceback (most recent call last)",
      "\u001b[0;32m/var/folders/y3/llvqw9gd7nz5vkbmv014r2kc0000gn/T/ipykernel_4286/3076542232.py\u001b[0m in \u001b[0;36m<module>\u001b[0;34m\u001b[0m\n\u001b[1;32m     17\u001b[0m \u001b[0;34m\u001b[0m\u001b[0m\n\u001b[1;32m     18\u001b[0m \u001b[0;34m\u001b[0m\u001b[0m\n\u001b[0;32m---> 19\u001b[0;31m \u001b[0;34m(\u001b[0m\u001b[0mbuy\u001b[0m \u001b[0;34m-\u001b[0m \u001b[0msale\u001b[0m\u001b[0;34m)\u001b[0m\u001b[0;34m/\u001b[0m\u001b[0;34m(\u001b[0m\u001b[0msale\u001b[0m\u001b[0;34m)\u001b[0m\u001b[0;34m\u001b[0m\u001b[0;34m\u001b[0m\u001b[0m\n\u001b[0m",
      "\u001b[0;31mNameError\u001b[0m: name 'buy' is not defined"
     ]
    }
   ],
   "source": [
    "a = {}\n",
    "\n",
    "for k in people:\n",
    "    link = input_all_officials_name[k]\n",
    "    _, obj = input_officials_objects[link]\n",
    "    \n",
    "    for asgt in obj.asgts:\n",
    "        asgt = asgt[ : asgt.find(\" (\")]\n",
    "        a = dict_utils.increment_dictionary(a, asgt)\n",
    "\n",
    "for k,v in a.items():\n",
    "    a[k] = round(v/len(people), 2) \n",
    "print(dict_utils.sort_dictionary_by_values(a))\n",
    "\n",
    "\n",
    "# print(dict_utils.sort_dictionary_by_values(a))\n",
    "\n",
    "\n",
    "(buy - sale)/(sale)"
   ]
  },
  {
   "cell_type": "markdown",
   "metadata": {},
   "source": [
    "\n",
    "# LATEX IT\n",
    "# for k, v in (dict_utils.sort_dictionary_by_keys(d)).items():\n",
    "#     print(\"\\item \" + k)\n",
    "#     print(\"\\\\begin{itemize}\")\n",
    "#     print(\"\\item \", end=\"\" )\n",
    "#     # ticker = [] \n",
    "#     for item in sorted(set(v)): \n",
    "#         print(item + \", \",  end=\"\")\n",
    "#     print(\"    \\end{itemize}\")"
   ]
  }
 ],
 "metadata": {
  "interpreter": {
   "hash": "e534e48711db4d1e1c48977d0d14ff85b1f16d41bcc4fdfd88268a329b3c9d66"
  },
  "kernelspec": {
   "display_name": "Python 3.7.9 64-bit",
   "language": "python",
   "name": "python3"
  },
  "language_info": {
   "codemirror_mode": {
    "name": "ipython",
    "version": 3
   },
   "file_extension": ".py",
   "mimetype": "text/x-python",
   "name": "python",
   "nbconvert_exporter": "python",
   "pygments_lexer": "ipython3",
   "version": "3.7.9"
  },
  "orig_nbformat": 4
 },
 "nbformat": 4,
 "nbformat_minor": 2
}
