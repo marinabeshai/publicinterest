{
 "cells": [
  {
   "cell_type": "markdown",
   "metadata": {},
   "source": [
    "# Read In Data"
   ]
  },
  {
   "cell_type": "code",
   "execution_count": 1,
   "metadata": {},
   "outputs": [],
   "source": [
    "import pandas as pd\n",
    "path = '../curr/senate-10182021.csv'\n",
    "csvreader = pd.read_csv(path)\n",
    "title = csvreader.columns[8]\n",
    "rows = csvreader.iterrows()"
   ]
  },
  {
   "cell_type": "markdown",
   "metadata": {},
   "source": [
    "# Number of Transactions Per Person \n",
    "_Not controlling for number of years in position._ For each official, we want their total number of transactions.  {'Sam': 5, 'Alex': 2424, ...}"
   ]
  },
  {
   "cell_type": "code",
   "execution_count": 2,
   "metadata": {},
   "outputs": [
    {
     "name": "stdout",
     "output_type": "stream",
     "text": [
      "               senator  number_of_transactions\n",
      "0  David A Perdue , Jr                    2597\n",
      "1      Thomas R Carper                     970\n",
      "2   Sheldon Whitehouse                     693\n",
      "3          Pat Roberts                     477\n",
      "4      Susan M Collins                     449\n"
     ]
    }
   ],
   "source": [
    "from utils import increment_dictionary, sort_dictionary, path_csv\n",
    "from csv_utils import make_csv\n",
    "# import plotly.express as px\n",
    "import matplotlib.pyplot as plt\n",
    "\n",
    "def num_of_trans_per_person(rows, d={}):\n",
    "    for _, transaction in rows:\n",
    "        d = increment_dictionary(d, transaction[title])\n",
    "\n",
    "    filename = \"num_of_trans_per_person\"\n",
    "    key_header = title\n",
    "    value_header = \"number_of_transactions\"\n",
    "\n",
    "    d = sort_dictionary(d)\n",
    "    \n",
    "    wd = make_csv(path_csv, filename, d, key_header, value_header)\n",
    "    print(pd.read_csv(wd).head(5))\n",
    "    \n",
    "    return d \n",
    "\n",
    "trans_per_person_res = num_of_trans_per_person(rows)"
   ]
  },
  {
   "cell_type": "code",
   "execution_count": 3,
   "metadata": {},
   "outputs": [
    {
     "name": "stdout",
     "output_type": "stream",
     "text": [
      "               senator  avg_number_of_transactions_per_year\n",
      "0  David A Perdue , Jr                                  433\n",
      "1       Kelly Loeffler                                  279\n",
      "2  Thomas H Tuberville                                  219\n",
      "3           Rick Scott                                   76\n",
      "4     Shelley M Capito                                   63\n"
     ]
    }
   ],
   "source": [
    "#yearly average?\n",
    "from wiki import wiki_search\n",
    "import math \n",
    "\n",
    "def num_of_trans_per_person_controlled(rows, d={}):\n",
    "    for person, trans in zip(rows.keys(), rows.values()):\n",
    "        official = wiki_search(person)       \n",
    "        years = official.get_num_of_years()\n",
    "        d[person] = math.ceil(trans/years)\n",
    "\n",
    "    filename = \"num_of_trans_per_person_controlled\"\n",
    "    key_header = title\n",
    "    value_header = \"avg_number_of_transactions_per_year\"\n",
    "\n",
    "    d = sort_dictionary(d)\n",
    "    \n",
    "    wd = make_csv(path_csv, filename, d, key_header, value_header)\n",
    "    print(pd.read_csv(wd).head(5))\n",
    "    \n",
    "\n",
    "num_of_trans_per_person_controlled(trans_per_person_res)\n",
    "        "
   ]
  }
 ],
 "metadata": {
  "interpreter": {
   "hash": "e534e48711db4d1e1c48977d0d14ff85b1f16d41bcc4fdfd88268a329b3c9d66"
  },
  "kernelspec": {
   "display_name": "Python 3.7.9 64-bit",
   "name": "python3"
  },
  "language_info": {
   "codemirror_mode": {
    "name": "ipython",
    "version": 3
   },
   "file_extension": ".py",
   "mimetype": "text/x-python",
   "name": "python",
   "nbconvert_exporter": "python",
   "pygments_lexer": "ipython3",
   "version": "3.7.9"
  },
  "orig_nbformat": 4
 },
 "nbformat": 4,
 "nbformat_minor": 2
}
